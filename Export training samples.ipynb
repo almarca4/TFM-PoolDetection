{
 "cells": [
  {
   "cell_type": "code",
   "execution_count": 1,
   "metadata": {},
   "outputs": [],
   "source": [
    "import os,sys\n",
    "import numpy as np\n",
    "import pandas as pd\n",
    "import matplotlib as plt\n",
    "import geopandas\n",
    "import random\n",
    "from osgeo import ogr,gdal"
   ]
  },
  {
   "cell_type": "markdown",
   "metadata": {},
   "source": [
    "Creo un geodataset con las coordenadas de cada piscina"
   ]
  },
  {
   "cell_type": "code",
   "execution_count": 2,
   "metadata": {
    "scrolled": true
   },
   "outputs": [],
   "source": [
    "gdf = geopandas.GeoDataFrame.from_file(r'C:\\Users\\Usuario\\Desktop\\QGIS-Pool\\Git\\Pool_shapefile\\Pool.shp')\n",
    "for row in gdf.iterrows():\n",
    "    gdf['X']=gdf.geometry.x\n",
    "    gdf['Y']=gdf.geometry.y"
   ]
  },
  {
   "cell_type": "markdown",
   "metadata": {},
   "source": [
    "Creo una imagen alrededor de cada piscina y guardo las coordenadas de todas las que aparecen"
   ]
  },
  {
   "cell_type": "code",
   "execution_count": 3,
   "metadata": {},
   "outputs": [
    {
     "name": "stdout",
     "output_type": "stream",
     "text": [
      "Done.\n"
     ]
    }
   ],
   "source": [
    "#Defino los parámetros\n",
    "InputImage = r'C:\\Users\\Usuario\\Desktop\\QGIS-Pool\\Ortofotos\\PNOA_MA_OF_ETRS89_HU31_h50_0823.tif'\n",
    "Shapefile = r'C:\\Users\\Usuario\\Desktop\\QGIS-Pool\\Git\\Pool_shapefile\\Pool.shp'\n",
    "RasterFormat = 'GTiff'\n",
    "PixelRes = 0.5\n",
    "VectorFormat = 'ESRI Shapefile'\n",
    "folder = 'C:\\\\Users\\\\Usuario\\\\Desktop\\\\QGIS-Pool\\\\Git\\\\images\\\\'\n",
    "tilemapping = {}\n",
    "\n",
    "Raster = gdal.Open(InputImage, gdal.GA_ReadOnly)\n",
    "Projection = Raster.GetProjectionRef()\n",
    "\n",
    "Count = 0\n",
    "for index, row in gdf.iterrows():\n",
    "    Count +=1\n",
    "    xmid = row['X'] + random.randint(-40, 40)  #Desplazo el centro de la imagen de forma aleatoria\n",
    "    ymid = row['Y'] + random.randint(-40, 40)\n",
    "    xmin, ymin = xmid - 50, ymid - 50  #Creo el extent de la imagen\n",
    "    xmax, ymax = xmid + 50, ymid + 50\n",
    "    \n",
    "    ImageName = str(Count) + '.tif'\n",
    "    OutTileName = folder + ImageName\n",
    "    OutTile = gdal.Translate(OutTileName, Raster, width=224, height=224, projWin = [xmin, ymax, xmax, ymin]) #Guardo la imagen\n",
    "    OutTile = None\n",
    "    \n",
    "    #Guardo en un diccionario las coordenadas de todas las piscinas que aparecen en la foto actual\n",
    "    centers = []\n",
    "    for index, row in gdf.iterrows():\n",
    "        x = row['X']\n",
    "        y = row['Y']\n",
    "        if (x < xmax) & (x > xmin) & (y < ymax) & (y > ymin):\n",
    "            x = (x - xmin) / (xmax - xmin)\n",
    "            y = (y - ymin) / (ymax - ymin)\n",
    "            centers.append((x,y))\n",
    "            \n",
    "    if len(centers) > 0:\n",
    "        tilemapping[ImageName] = centers\n",
    "        \n",
    "        \n",
    "print(\"Done.\")"
   ]
  },
  {
   "cell_type": "markdown",
   "metadata": {},
   "source": [
    "Creo un Pickle del diccionario para almacenarlo"
   ]
  },
  {
   "cell_type": "code",
   "execution_count": 4,
   "metadata": {},
   "outputs": [],
   "source": [
    "import pickle\n",
    "pickle.dump(tilemapping, open(r'C:\\Users\\Usuario\\Desktop\\QGIS-Pool\\Git\\tilemapping.pkl', 'wb'))"
   ]
  }
 ],
 "metadata": {
  "kernelspec": {
   "display_name": "Python 3",
   "language": "python",
   "name": "python3"
  },
  "language_info": {
   "codemirror_mode": {
    "name": "ipython",
    "version": 3
   },
   "file_extension": ".py",
   "mimetype": "text/x-python",
   "name": "python",
   "nbconvert_exporter": "python",
   "pygments_lexer": "ipython3",
   "version": "3.6.6"
  }
 },
 "nbformat": 4,
 "nbformat_minor": 2
}
